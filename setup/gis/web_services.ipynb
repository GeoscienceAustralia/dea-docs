{
 "cells": [
  {
   "cell_type": "markdown",
   "source": [
    "# Web Services for GIS"
   ],
   "metadata": {}
  },
  {
   "cell_type": "markdown",
   "source": [
    "## Web Map Service / Web Coverage Service"
   ],
   "metadata": {}
  },
  {
   "cell_type": "markdown",
   "source": [
    "A Web Map Service (WMS) is an Open Geospatial Consortium (OGC) standard that allows users to remotely access georeferenced map images via secure hypertext transfer protocol (HTTPS) requests.\r\n",
    "\r\n",
    "DEA provides two types of maps services:\r\n",
    "\r\n",
    "* Web Map Service (WMS) – A standard protocol for serving georeferenced map images over the internet that are generated from a map server using data from a GIS database. It is important to note that with a WMS, you are essentially getting an image of geospatial data (i.e. JPG, GIF, PNG file). While this has its uses, it is an image only, and therefore does not contain any of the underlying geospatial data that was used to create the image.\r\n",
    "* Web Coverage Service (WCS) – A standard protocol for serving coverage data which returns data with its original semantics (instead of just pictures) which may be interpreted, extrapolated, etc., and not just portrayed. Essentially, a WCS can be thought of as the raw geospatial raster data behind an image. Using a WCS, you can pull the raw raster information you need to perform further analysis.\r\n",
    "\r\n",
    "To summarise: a WMS is simply an image of a map. You can think of this like taking a screenshot of Google Maps. A WCS is the raw raster data, so for example, if you are working with a WCS containing Landsat imagery, you can effectively chunk off the piece you are interested in and download the full multispectral image at the spatial resolution of the original image. The beauty of these services is that you can grab only the information you need. So, rather than retrieving a file that contains the data you are seeking and possibly much more, you can confine your download to only your area of interest, allowing you to get what you need and no more.\r\n",
    "\r\n",
    "For more information, see this article on the [difference between GIS web services](https://www.l3harrisgeospatial.com/Learn/Blogs/Blog-Details/ArtMID/10198/ArticleID/16289/Web-Mapping-Service-Web-Coverage-Service-or-Web-Feature-Service-%E2%80%93-What%E2%80%99s-the-Difference).\r\n",
    "\r\n",
    "The tutorials below cover setting up WMS and connecting to WCS."
   ],
   "metadata": {}
  },
  {
   "cell_type": "markdown",
   "source": [
    "## Tutorial: Setting up WMS"
   ],
   "metadata": {}
  },
  {
   "cell_type": "markdown",
   "source": [
    "This tutorial shows how to set up Web Map Services in QGIS, and use it with other data on your computer such as drone imagery, vector or raster data. This may be useful if you cannot upload the data to the DEA Maps or the DEA Sandbox due to file size or internet bandwidth. It may also be useful if you feel more comfortable doing analysis in a GIS application.\r\n",
    "\r\n",
    "Although this tutorial focuses on QGIS, the same process can be used to connect other Desktop GIS applications. [QGIS](https://qgis.org/en/site/) is a free and open-source desktop GIS application. You can download it from https://qgis.org/en/site/."
   ],
   "metadata": {}
  },
  {
   "cell_type": "markdown",
   "source": [
    "**How to connect to WMS using QGIS**"
   ],
   "metadata": {}
  },
  {
   "cell_type": "markdown",
   "source": [
    "1. Launch QGIS.\n",
    "2. On the Menu Bar click on **Layer**.\n",
    "3. A sub-menu tab will show below Layer; click on **Add Layer**, choose **Add WMS/WMTS Layer**.\n",
    "\n",
    "<img align=\"middle\" src=\"../../_static/web_services/ows_tutorial_1.png\" alt=\"QGIS - Add Layer\" width=\"500\">\n",
    "\n",
    "4. A dialogue will open as shown below. Click on the **New** button.\n",
    "\n",
    "<img align=\"middle\" src=\"../../_static/web_services/ows_tutorial_2.png\" alt=\"QGIS - New Layer\" width=\"500\">\n",
    "\n",
    "5. A dialogue will open, as shown below: Provide the following details, these can be found at the URL https://ows.dea.ga.gov.au/.\n",
    "\n",
    "`Name: DEA Services`\n",
    "\n",
    "`URL:  https://ows.dea.ga.gov.au/?service=WMS&version=1.3.0&request=GetCapabilities `\n",
    "\n",
    "<img align=\"middle\" src=\"../../_static/web_services/ows_tutorial_3.png\" alt=\"QGIS - Create New Connection\" width=\"300\">\n",
    "\n",
    "6. After providing the details above, click on **OK**.\n",
    "7. The previous dialogue will show up, in the dropdown above the **New** button, you will see DEA Services. If it is not there click the dropdown button below and select it.\n",
    "8. The **Connect** button will be activated, click on it to load the layers. Anytime this page is open, because the connection has already been established, click on **Connect** to load the data.\n",
    "\n",
    "<img align=\"middle\" src=\"../../_static/web_services/ows_tutorial_4.png\" alt=\"QGIS - View Connection\" width=\"500\">\n",
    "\n",
    "9. The layer will be loaded as shown below in the dialogue.\n",
    "10. Navigate through layers and choose the layer you will need to display on the Map Page.\n",
    "11. After selecting the layer, click on **Add** button at the bottom of the dialogue.\n",
    "12. Close the dialogue, the selected layer will be loaded onto the Map Page.\n"
   ],
   "metadata": {}
  },
  {
   "cell_type": "markdown",
   "source": [
    "**For web developers**\r\n",
    "\r\n",
    "The sites below provide instructions on how to load these map services onto your platform:\r\n",
    "\r\n",
    "* https://leafletjs.com/examples/wms/wms.html\r\n",
    "* https://openlayers.org/en/latest/examples/wms-tiled.html\r\n",
    "* https://docs.microsoft.com/en-us/bingmaps/v8-web-control/map-control-concepts/layers/wms-tile-layer-example\r\n",
    "\r\n"
   ],
   "metadata": {}
  },
  {
   "cell_type": "markdown",
   "source": [
    "## Tutorial: How to connect WCS"
   ],
   "metadata": {}
  },
  {
   "cell_type": "markdown",
   "source": [
    "This tutorial shows how to create a Web Coverage Service connection using QGIS. "
   ],
   "metadata": {}
  },
  {
   "cell_type": "markdown",
   "source": [
    "1. Launch QGIS.\n",
    "2. On the Menu Bar click on **Layer**.\n",
    "3. A sub-menu tab will show below Layer; click on **Add Layer**, choose **Add WCS Layer**.\n",
    "\n",
    "<img align=\"middle\" src=\"../../_static/web_services/ows_tutorial_5.png\" alt=\"QGIS - Add WCS\" width=\"500\">\n",
    "\n",
    "4. Click on the **New** button.\n",
    "5. A dialogue will open, as shown below: Provide the following details, these can be found at the URL https://ows.dea.ga.gov.au/\n",
    "\n",
    "`Name: DEA Services`\n",
    "\n",
    "`URL:  https://ows.dea.ga.gov.au/?service=WMS&version=1.3.0&request=GetCapabilities`\n",
    "\n",
    "<img align=\"middle\" src=\"../../_static/web_services/ows_tutorial_6.png\" alt=\"QGIS - WCS Connection\" width=\"300\">\n",
    " \n",
    "6. After providing the details above, click on **OK**.\n",
    "7. The previous dialogue will show up, in the dropdown above the New button, you will see DEA Services, if it is not there click the dropdown button below and select it.\n",
    "8. The **Connect** button will be activated, click on it to load the layers. Anytime this page is open, because the connection has already been established, click on the **Connect** button to load the data.\n",
    "9. The layer will be loaded as shown below in the dialogue.\n",
    "\n",
    "<img align=\"middle\" src=\"../../_static/web_services/ows_tutorial_4.png\" alt=\"QGIS - Loaded WCS\" width=\"500\">\n",
    "\n",
    "10. Navigate through layers and choose the layer you will need to display on the Map Page. With WCS you can select Time and Format of Image.\n",
    "11. After selecting the layer click on the **Add** button at the bottom of the dialogue.\n"
   ],
   "metadata": {}
  }
 ],
 "metadata": {
  "kernelspec": {
   "display_name": "Python 3",
   "language": "python",
   "name": "python3"
  },
  "language_info": {
   "codemirror_mode": {
    "name": "ipython",
    "version": 3
   },
   "file_extension": ".py",
   "mimetype": "text/x-python",
   "name": "python",
   "nbconvert_exporter": "python",
   "pygments_lexer": "ipython3",
   "version": "3.6.9"
  }
 },
 "nbformat": 4,
 "nbformat_minor": 4
}