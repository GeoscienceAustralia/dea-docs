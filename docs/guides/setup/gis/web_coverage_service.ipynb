{
 "cells": [
  {
   "cell_type": "markdown",
   "metadata": {},
   "source": [
    "# Web Coverage Service (WCS)\n",
    "\n",
    "A standard protocol for serving coverage data, which returns the data along with its original semantics (instead of just pictures) which may be interpreted, extrapolated, etc., and not just portrayed. With WCS you can retrieve the raw geospatial raster data behind an image for performing further analysis.\n",
    "\n",
    "WCS allows selecting and downloading subsets of full multispectral images at their original spatial resolution, without needing to download the entire file. This allows you to limit your downloads to only the information from your area of interest."
   ]
  },
  {
   "cell_type": "markdown",
   "metadata": {},
   "source": [
    "**How to Connect to WCS using QGIS**\n",
    "\n",
    "This tutorial shows how to create a Web Coverage Service connection using QGIS. "
   ]
  },
  {
   "cell_type": "markdown",
   "metadata": {},
   "source": [
    "1. Launch QGIS.\n",
    "2. On the Menu Bar click on **Layer**.\n",
    "3. A sub-menu tab will show below Layer; click on **Add Layer**, choose **Add WCS Layer**.\n",
    "\n",
    "![QGIS - Add WCS](/_files/web-services/ows_tutorial_5.png)\n",
    "\n",
    "4. Click on the **New** button.\n",
    "5. A dialogue will open, as shown below: Provide the following details, these can be found at the URL https://ows.dea.ga.gov.au/\n",
    "\n",
    "`Name: DEA Services`\n",
    "\n",
    "`URL:  https://ows.dea.ga.gov.au/?service=WMS&version=1.3.0&request=GetCapabilities`\n",
    "\n",
    "![QGIS - WCS Connection](/_files/web-services/ows_tutorial_6.png)\n",
    "\n",
    "6. After providing the details above, click on **OK**.\n",
    "7. The previous dialogue will show up, in the dropdown above the New button, you will see DEA Services, if it is not there click the dropdown button below and select it.\n",
    "8. The **Connect** button will be activated, click on it to load the layers. Anytime this page is open, because the connection has already been established, click on the **Connect** button to load the data.\n",
    "9. The layer will be loaded as shown below in the dialogue.\n",
    "\n",
    "![QGIS - Loaded WCS](/_files/web-services/ows_tutorial_4.png)\n",
    "\n",
    "10. Navigate through layers and choose the layer you will need to display on the Map Page. With WCS you can select Time and Format of Image.\n",
    "11. After selecting the layer click on the **Add** button at the bottom of the dialogue.\n"
   ]
  }
 ],
 "metadata": {
  "kernelspec": {
   "display_name": "Python 3",
   "language": "python",
   "name": "python3"
  },
  "language_info": {
   "codemirror_mode": {
    "name": "ipython",
    "version": 3
   },
   "file_extension": ".py",
   "mimetype": "text/x-python",
   "name": "python",
   "nbconvert_exporter": "python",
   "pygments_lexer": "ipython3",
   "version": "3.6.9"
  }
 },
 "nbformat": 4,
 "nbformat_minor": 4
}
