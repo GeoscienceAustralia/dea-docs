{
 "cells": [
  {
   "cell_type": "markdown",
   "metadata": {},
   "source": [
    "# Web Map Service (WMS)\n",
    "\n",
    "WMS is a standard protocol for serving georeferenced map images over the internet that are generated from a map server using data from a GIS database. \n",
    "\n",
    "WMS retrieves images of geospatial data (i.e. JPG, GIF, PNG file), enabling fast (pre)viewing of data, without needing to download and process it. Note that this imagery does not contain any of the underlying geospatial data that was used to generate the image. It can be thought of as taking a screenshot of Google Maps.\n"
   ]
  },
  {
   "cell_type": "markdown",
   "metadata": {},
   "source": [
    "**How to connect to WMS using QGIS**"
   ]
  },
  {
   "cell_type": "markdown",
   "metadata": {},
   "source": [
    "This tutorial shows how to set up Web Map Services in QGIS, and use it with other data on your computer such as drone imagery, vector or raster data. This may be useful if you cannot upload the data to the DEA Maps or the DEA Sandbox due to file size or internet bandwidth. It may also be useful if you feel more comfortable doing analysis in a GIS application.\n",
    "\n",
    "Although this tutorial focuses on QGIS, the same process can be used to connect other Desktop GIS applications. [QGIS](https://qgis.org/en/site/) is a free and open-source desktop GIS application. You can download it from https://qgis.org/en/site/."
   ]
  },
  {
   "cell_type": "markdown",
   "metadata": {},
   "source": [
    "1. Launch QGIS.\n",
    "2. On the Menu Bar click on **Layer**.\n",
    "3. A sub-menu tab will show below Layer; click on **Add Layer**, choose **Add WMS/WMTS Layer**.\n",
    "\n",
    "<img align=\"middle\" src=\"../../_static/web_services/ows_tutorial_1.png\" alt=\"QGIS - Add Layer\" width=\"500\">\n",
    "\n",
    "4. A dialogue will open as shown below. Click on the **New** button.\n",
    "\n",
    "<img align=\"middle\" src=\"../../_static/web_services/ows_tutorial_2.png\" alt=\"QGIS - New Layer\" width=\"500\">\n",
    "\n",
    "5. A dialogue will open, as shown below: Provide the following details, these can be found at the URL https://ows.dea.ga.gov.au/.\n",
    "\n",
    "`Name: DEA Services`\n",
    "\n",
    "`URL:  https://ows.dea.ga.gov.au/?service=WMS&version=1.3.0&request=GetCapabilities `\n",
    "\n",
    "<img align=\"middle\" src=\"../../_static/web_services/ows_tutorial_3.png\" alt=\"QGIS - Create New Connection\" width=\"300\">\n",
    "\n",
    "6. After providing the details above, click on **OK**.\n",
    "7. The previous dialogue will show up, in the dropdown above the **New** button, you will see DEA Services. If it is not there click the dropdown button below and select it.\n",
    "8. The **Connect** button will be activated, click on it to load the layers. Anytime this page is open, because the connection has already been established, click on **Connect** to load the data.\n",
    "\n",
    "<img align=\"middle\" src=\"../../_static/web_services/ows_tutorial_4.png\" alt=\"QGIS - View Connection\" width=\"500\">\n",
    "\n",
    "9. The layer will be loaded as shown below in the dialogue.\n",
    "10. Navigate through layers and choose the layer you will need to display on the Map Page.\n",
    "11. After selecting the layer, click on **Add** button at the bottom of the dialogue.\n",
    "12. Close the dialogue, the selected layer will be loaded onto the Map Page.\n"
   ]
  },
  {
   "cell_type": "markdown",
   "metadata": {},
   "source": [
    "**For web developers**\n",
    "\n",
    "The sites below provide instructions on how to load these map services onto your platform:\n",
    "\n",
    "* https://leafletjs.com/examples/wms/wms.html\n",
    "* https://openlayers.org/en/latest/examples/wms-tiled.html\n",
    "* https://docs.microsoft.com/en-us/bingmaps/v8-web-control/map-control-concepts/layers/wms-tile-layer-example\n",
    "\n"
   ]
  },
  {
   "cell_type": "markdown",
   "metadata": {},
   "source": [
    "# Web Coverage Service (WCS)\n",
    "\n",
    "A standard protocol for serving coverage data, which returns the data along with its original semantics (instead of just pictures) which may be interpreted, extrapolated, etc., and not just portrayed. With WCS you can retrieve the raw geospatial raster data behind an image for performing further analysis.\n",
    "\n",
    "WCS allows selecting and downloading subsets of full multispectral images at their original spatial resolution, without needing to download the entire file. This allows you to limit your downloads to only the information from your area of interest."
   ]
  },
  {
   "cell_type": "markdown",
   "metadata": {},
   "source": [
    "**How to Connect to WCS using QGIS**\n",
    "\n",
    "This tutorial shows how to create a Web Coverage Service connection using QGIS. "
   ]
  },
  {
   "cell_type": "markdown",
   "metadata": {},
   "source": [
    "1. Launch QGIS.\n",
    "2. On the Menu Bar click on **Layer**.\n",
    "3. A sub-menu tab will show below Layer; click on **Add Layer**, choose **Add WCS Layer**.\n",
    "\n",
    "<img align=\"middle\" src=\"../../_static/web_services/ows_tutorial_5.png\" alt=\"QGIS - Add WCS\" width=\"500\">\n",
    "\n",
    "4. Click on the **New** button.\n",
    "5. A dialogue will open, as shown below: Provide the following details, these can be found at the URL https://ows.dea.ga.gov.au/\n",
    "\n",
    "`Name: DEA Services`\n",
    "\n",
    "`URL:  https://ows.dea.ga.gov.au/?service=WMS&version=1.3.0&request=GetCapabilities`\n",
    "\n",
    "<img align=\"middle\" src=\"../../_static/web_services/ows_tutorial_6.png\" alt=\"QGIS - WCS Connection\" width=\"300\">\n",
    " \n",
    "6. After providing the details above, click on **OK**.\n",
    "7. The previous dialogue will show up, in the dropdown above the New button, you will see DEA Services, if it is not there click the dropdown button below and select it.\n",
    "8. The **Connect** button will be activated, click on it to load the layers. Anytime this page is open, because the connection has already been established, click on the **Connect** button to load the data.\n",
    "9. The layer will be loaded as shown below in the dialogue.\n",
    "\n",
    "<img align=\"middle\" src=\"../../_static/web_services/ows_tutorial_4.png\" alt=\"QGIS - Loaded WCS\" width=\"500\">\n",
    "\n",
    "10. Navigate through layers and choose the layer you will need to display on the Map Page. With WCS you can select Time and Format of Image.\n",
    "11. After selecting the layer click on the **Add** button at the bottom of the dialogue.\n"
   ]
  }
 ],
 "metadata": {
  "kernelspec": {
   "display_name": "Python 3",
   "language": "python",
   "name": "python3"
  },
  "language_info": {
   "codemirror_mode": {
    "name": "ipython",
    "version": 3
   },
   "file_extension": ".py",
   "mimetype": "text/x-python",
   "name": "python",
   "nbconvert_exporter": "python",
   "pygments_lexer": "ipython3",
   "version": "3.6.9"
  }
 },
 "nbformat": 4,
 "nbformat_minor": 4
}
